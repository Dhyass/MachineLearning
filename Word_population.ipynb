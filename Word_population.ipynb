{
 "cells": [
  {
   "cell_type": "code",
   "execution_count": null,
   "metadata": {},
   "outputs": [],
   "source": [
    "import matplotlib.pyplot as plt\n",
    "import numpy as np\n",
    "\n",
    "# data from United Nations World Population Prospects (Revision 2019)\n",
    "# https://population.un.org/wpp/, license: CC BY 3.0 IGO\n",
    "year = [1950, 1960, 1970, 1980, 1990, 2000, 2010, 2018]\n",
    "population_by_continent = {\n",
    "    'africa': [228, 284, 365, 477, 631, 814, 1044, 1275],\n",
    "    'americas': [340, 425, 519, 619, 727, 840, 943, 1006],\n",
    "    'asia': [1394, 1686, 2120, 2625, 3202, 3714, 4169, 4560],\n",
    "    'europe': [220, 253, 276, 295, 310, 303, 294, 293],\n",
    "    'oceania': [12, 15, 19, 22, 26, 31, 36, 39],\n",
    "}\n",
    "\n",
    "fig, ax = plt.subplots()\n",
    "ax.stackplot(year, population_by_continent.values(),\n",
    "             labels=population_by_continent.keys(), alpha=0.8)\n",
    "ax.legend(loc='upper left', reverse=True)\n",
    "ax.set_title('World population')\n",
    "ax.set_xlabel('Year')\n",
    "ax.set_ylabel('Number of people (millions)')\n",
    "\n",
    "plt.show()"
   ]
  }
 ],
 "metadata": {
  "language_info": {
   "name": "python"
  }
 },
 "nbformat": 4,
 "nbformat_minor": 2
}
